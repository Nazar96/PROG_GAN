{
 "cells": [
  {
   "cell_type": "code",
   "execution_count": 1,
   "metadata": {
    "ExecuteTime": {
     "end_time": "2019-07-10T20:22:02.814369Z",
     "start_time": "2019-07-10T20:22:02.796870Z"
    }
   },
   "outputs": [],
   "source": [
    "%load_ext autoreload\n",
    "%autoreload 2"
   ]
  },
  {
   "cell_type": "code",
   "execution_count": 3,
   "metadata": {
    "ExecuteTime": {
     "end_time": "2019-07-10T20:22:05.199965Z",
     "start_time": "2019-07-10T20:22:03.228954Z"
    }
   },
   "outputs": [],
   "source": [
    "import os\n",
    "import sys\n",
    "sys.path.append('../src/')\n",
    "import progan as pgan\n",
    "import numpy as np\n",
    "import matplotlib as mpl\n",
    "from matplotlib import pyplot as plt\n",
    "#from matplotlib import gridspec as grid\n",
    "mpl.rcParams['axes.facecolor'] = '.8'\n",
    "mpl.rcParams['figure.facecolor'] = '.3'\n",
    "\n",
    "import cv2\n",
    "from tqdm import tqdm as tqdm\n",
    "from IPython.display import clear_output\n",
    "\n",
    "#import logging\n",
    "#logging.basicConfig(level=logging.WARNING)\n",
    "\n",
    "import warnings\n",
    "warnings.simplefilter('ignore')\n",
    "\n",
    "from keras.optimizers import Adam\n",
    "from keras.utils.vis_utils import plot_model\n",
    "from keras.preprocessing.image import ImageDataGenerator\n",
    "\n",
    "from tools import plot_epoch, load_img_gen, plot_samples"
   ]
  },
  {
   "cell_type": "markdown",
   "metadata": {},
   "source": [
    "# MODEL"
   ]
  },
  {
   "cell_type": "code",
   "execution_count": 4,
   "metadata": {
    "ExecuteTime": {
     "end_time": "2019-07-10T21:28:00.082477Z",
     "start_time": "2019-07-10T21:28:00.038833Z"
    }
   },
   "outputs": [],
   "source": [
    "IMG_SHAPE_LIST =    [4, 8, 16,32, 64,128,256]\n",
    "FILTER_SHAPE_LIST = [512, 256, 128, 64, 32, 16, 8]\n",
    "\n",
    "LATENT_DIM = 100\n",
    "#OPTIMIZER = Adam(0.005, 0.5)\n",
    "OPTIMIZER = Adam(0.0001, 0, 0.99, epsilon=10e-8)\n",
    "#OPTIMIZER = Adam()"
   ]
  },
  {
   "cell_type": "code",
   "execution_count": 17,
   "metadata": {
    "ExecuteTime": {
     "end_time": "2019-07-10T21:33:33.454886Z",
     "start_time": "2019-07-10T21:33:31.578480Z"
    },
    "cell_style": "center"
   },
   "outputs": [
    {
     "name": "stdout",
     "output_type": "stream",
     "text": [
      "Number of stacked levels: 0\n",
      "Image shape: (4, 4, 3)\n"
     ]
    }
   ],
   "source": [
    "prog = pgan.PROG_GAN(IMG_SHAPE_LIST, FILTER_SHAPE_LIST, 3, LATENT_DIM, OPTIMIZER)\n",
    "prog.build_model()"
   ]
  },
  {
   "cell_type": "code",
   "execution_count": 5,
   "metadata": {},
   "outputs": [
    {
     "name": "stdout",
     "output_type": "stream",
     "text": [
      "Number of stacked levels: 1\n",
      "Image shape: (8, 8, 3)\n"
     ]
    }
   ],
   "source": [
    "prog.add_level()"
   ]
  },
  {
   "cell_type": "code",
   "execution_count": 25,
   "metadata": {},
   "outputs": [],
   "source": [
    "EPOCHS = 5000\n",
    "BATCH_SIZE = 1\n",
    "PATH = '../data/Simpsons/'\n",
    "MODE = 'test'\n",
    "ALPHA = 'zero'\n",
    "\n",
    "level = prog.level\n",
    "size = prog.get_layer_img_shape(level)[0]\n",
    "\n",
    "if ALPHA == 'lin':\n",
    "    alpha = np.linspace(0, 1, EPOCHS)[::-1]\n",
    "elif ALPHA == 'zero':\n",
    "    alpha = np.zeros(EPOCHS)\n",
    "\n",
    "if MODE == 'train':\n",
    "    data_gen_args = dict(featurewise_center=True,\n",
    "                     featurewise_std_normalization=True,\n",
    "                     rotation_range=60,\n",
    "                     width_shift_range=0.1,\n",
    "                     height_shift_range=0.1,\n",
    "                     zoom_range=0.2,\n",
    "                     rescale=1.0/255.0)\n",
    "\n",
    "    img_gen = ImageDataGenerator(**data_gen_args).flow_from_directory(PATH, target_size=(size,size),\n",
    "                                batch_size=BATCH_SIZE, class_mode=None)\n",
    "    \n",
    "elif MODE == 'test':\n",
    "    img_gen = load_img_gen(PATH, size, BATCH_SIZE)"
   ]
  },
  {
   "cell_type": "code",
   "execution_count": 24,
   "metadata": {},
   "outputs": [
    {
     "data": {
      "image/png": "[encoded data removed]",
      "text/plain": [
       "<Figure size 360x360 with 1 Axes>"
      ]
     },
     "metadata": {},
     "output_type": "display_data"
    }
   ],
   "source": [
    "plot_samples(img_gen)"
   ]
  },
  {
   "cell_type": "code",
   "execution_count": 20,
   "metadata": {},
   "outputs": [
    {
     "data": {
      "text/plain": [
       "array([[[[0.23196232, 0.29970515, 0.6498009 ],\n",
       "         [0.227451  , 0.3019608 , 0.65882355],\n",
       "         [0.227451  , 0.3019608 , 0.65882355],\n",
       "         [0.54939747, 0.49157342, 0.33095172]],\n",
       "\n",
       "        [[0.41311136, 0.4552826 , 0.7107373 ],\n",
       "         [0.388602  , 0.40079346, 0.53412783],\n",
       "         [0.7213518 , 0.7072977 , 0.67877144],\n",
       "         [0.7908727 , 0.7096712 , 0.42702958]],\n",
       "\n",
       "        [[0.80123556, 0.6985102 , 0.37700313],\n",
       "         [0.87730014, 0.6764703 , 0.03371255],\n",
       "         [0.8738977 , 0.6816017 , 0.01266533],\n",
       "         [0.7209054 , 0.6393782 , 0.3736238 ]],\n",
       "\n",
       "        [[0.87062556, 0.64176244, 0.23261482],\n",
       "         [0.8596894 , 0.58489466, 0.558511  ],\n",
       "         [0.8662834 , 0.60128057, 0.45874852],\n",
       "         [0.8762822 , 0.66300994, 0.10817771]]]], dtype=float32)"
      ]
     },
     "execution_count": 20,
     "metadata": {},
     "output_type": "execute_result"
    }
   ],
   "source": [
    "next(img_gen)"
   ]
  },
  {
   "cell_type": "code",
   "execution_count": 21,
   "metadata": {
    "ExecuteTime": {
     "end_time": "2019-07-10T21:35:04.141130Z",
     "start_time": "2019-07-10T21:34:31.646053Z"
    },
    "cell_style": "center"
   },
   "outputs": [
    {
     "name": "stdout",
     "output_type": "stream",
     "text": [
      "INTERRUPTED\n"
     ]
    }
   ],
   "source": [
    "%timeit\n",
    "try:\n",
    "    for epoch in range(1, EPOCHS):\n",
    "        a = alpha[epoch]\n",
    "        real_X = next(img_gen)\n",
    "        prog.train(real_X, alpha=a) # alpha(epoch, 0.25)\n",
    "        if epoch % 50 == 0:\n",
    "            clear_output(True)\n",
    "            plot_epoch(prog, a, 1000)\n",
    "            \n",
    "except KeyboardInterrupt:\n",
    "    print('INTERRUPTED')\n",
    "alpha = np.zeros(EPOCHS)"
   ]
  },
  {
   "cell_type": "markdown",
   "metadata": {
    "toc-hr-collapsed": true
   },
   "source": [
    "# VALIDATION"
   ]
  },
  {
   "cell_type": "code",
   "execution_count": 61,
   "metadata": {
    "ExecuteTime": {
     "end_time": "2019-07-10T21:31:31.071530Z",
     "start_time": "2019-07-10T21:31:26.408362Z"
    },
    "cell_style": "split"
   },
   "outputs": [
    {
     "data": {
      "text/plain": [
       "0.0804101"
      ]
     },
     "execution_count": 61,
     "metadata": {},
     "output_type": "execute_result"
    }
   ],
   "source": [
    "print('GEN:')\n",
    "print(np.mean([prog.get_comb_proba(alpha=a)[0][0] for _ in range(100)]))\n",
    "\n",
    "promt('\\NREAL:')\n",
    "print(np.mean(prog.get_proba(next(img_gen)[0], a)))"
   ]
  },
  {
   "cell_type": "code",
   "execution_count": 193,
   "metadata": {},
   "outputs": [
    {
     "data": {
      "image/png": "[encoded data removed]",
      "text/plain": [
       "<Figure size 360x360 with 9 Axes>"
      ]
     },
     "metadata": {},
     "output_type": "display_data"
    }
   ],
   "source": [
    "noise = np.random.normal(0,1,(9, LATENT_DIM))\n",
    "img = iter([prog.generate(noise, a)])\n",
    "plot_samples(img)"
   ]
  },
  {
   "cell_type": "code",
   "execution_count": 194,
   "metadata": {},
   "outputs": [
    {
     "data": {
      "image/png": "[encoded data removed]",
      "text/plain": [
       "<Figure size 360x360 with 9 Axes>"
      ]
     },
     "metadata": {},
     "output_type": "display_data"
    }
   ],
   "source": [
    "plot_samples(img_gen)"
   ]
  },
  {
   "cell_type": "code",
   "execution_count": null,
   "metadata": {},
   "outputs": [],
   "source": []
  },
  {
   "cell_type": "code",
   "execution_count": null,
   "metadata": {},
   "outputs": [],
   "source": []
  },
  {
   "cell_type": "code",
   "execution_count": 195,
   "metadata": {
    "ExecuteTime": {
     "end_time": "2019-07-10T15:43:07.018169Z",
     "start_time": "2019-07-10T15:43:07.004314Z"
    }
   },
   "outputs": [],
   "source": [
    "noise_test = np.random.normal(0,1,(1, LATENT_DIM))"
   ]
  },
  {
   "cell_type": "code",
   "execution_count": 196,
   "metadata": {
    "ExecuteTime": {
     "end_time": "2019-07-10T15:43:08.264300Z",
     "start_time": "2019-07-10T15:43:08.136978Z"
    }
   },
   "outputs": [
    {
     "data": {
      "text/plain": [
       "<matplotlib.image.AxesImage at 0x7f7b7fa72320>"
      ]
     },
     "execution_count": 196,
     "metadata": {},
     "output_type": "execute_result"
    },
    {
     "data": {
      "image/png": "[encoded data removed]",
      "text/plain": [
       "<Figure size 432x288 with 1 Axes>"
      ]
     },
     "metadata": {},
     "output_type": "display_data"
    }
   ],
   "source": [
    "plt.imshow(prog.generate(noise_test, 0.)[0])"
   ]
  },
  {
   "cell_type": "code",
   "execution_count": 197,
   "metadata": {
    "ExecuteTime": {
     "end_time": "2019-07-10T15:43:09.007597Z",
     "start_time": "2019-07-10T15:43:08.845227Z"
    }
   },
   "outputs": [
    {
     "data": {
      "text/plain": [
       "<matplotlib.image.AxesImage at 0x7f7b7f74fa58>"
      ]
     },
     "execution_count": 197,
     "metadata": {},
     "output_type": "execute_result"
    },
    {
     "data": {
      "image/png": "[encoded data removed]",
      "text/plain": [
       "<Figure size 432x288 with 1 Axes>"
      ]
     },
     "metadata": {},
     "output_type": "display_data"
    }
   ],
   "source": [
    "plt.imshow(prog.generate(noise_test, 1)[0])"
   ]
  },
  {
   "cell_type": "code",
   "execution_count": 198,
   "metadata": {
    "ExecuteTime": {
     "end_time": "2019-07-10T15:43:10.013869Z",
     "start_time": "2019-07-10T15:43:09.885978Z"
    }
   },
   "outputs": [
    {
     "data": {
      "text/plain": [
       "<matplotlib.image.AxesImage at 0x7f7b7f86d278>"
      ]
     },
     "execution_count": 198,
     "metadata": {},
     "output_type": "execute_result"
    },
    {
     "data": {
      "image/png": "[encoded data removed]",
      "text/plain": [
       "<Figure size 432x288 with 1 Axes>"
      ]
     },
     "metadata": {},
     "output_type": "display_data"
    }
   ],
   "source": [
    "plt.imshow(prog.generate(noise_test, 0.5)[0])"
   ]
  },
  {
   "cell_type": "code",
   "execution_count": null,
   "metadata": {},
   "outputs": [],
   "source": []
  }
 ],
 "metadata": {
  "kernelspec": {
   "display_name": "env",
   "language": "python",
   "name": "env"
  },
  "language_info": {
   "codemirror_mode": {
    "name": "ipython",
    "version": 3
   },
   "file_extension": ".py",
   "mimetype": "text/x-python",
   "name": "python",
   "nbconvert_exporter": "python",
   "pygments_lexer": "ipython3",
   "version": "3.6.7"
  },
  "toc": {
   "base_numbering": 1,
   "nav_menu": {},
   "number_sections": true,
   "sideBar": true,
   "skip_h1_title": false,
   "title_cell": "Table of Contents",
   "title_sidebar": "Contents",
   "toc_cell": false,
   "toc_position": {},
   "toc_section_display": true,
   "toc_window_display": false
  }
 },
 "nbformat": 4,
 "nbformat_minor": 2
}
